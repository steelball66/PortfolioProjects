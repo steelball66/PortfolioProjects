{
 "cells": [
  {
   "cell_type": "code",
   "execution_count": 51,
   "id": "b8c0b8b1",
   "metadata": {},
   "outputs": [],
   "source": [
    "import pandas as pd"
   ]
  },
  {
   "cell_type": "code",
   "execution_count": null,
   "id": "2e11df2e",
   "metadata": {},
   "outputs": [],
   "source": [
    "pd.options.display.max_columns = None"
   ]
  },
  {
   "cell_type": "code",
   "execution_count": null,
   "id": "fd0a9536",
   "metadata": {},
   "outputs": [],
   "source": [
    "df = pd.read_csv('../data/api_keys.csv')\n",
    "zwsid = df.loc[df['api']=='zillow']['key'].iloc[0]"
   ]
  },
  {
   "cell_type": "code",
   "execution_count": 257,
   "id": "f2d744b8",
   "metadata": {},
   "outputs": [],
   "source": [
    "\n",
    "import requests\n",
    "\n",
    "url = \"https://zillow-com1.p.rapidapi.com/propertyExtendedSearch\"\n",
    "\n",
    "querystring = {\"location\":\"tucson,az\",\"status_type\":\"ForSale\",\"home_type\":\"Houses\"}\n",
    "\n",
    "headers = {\n",
    "\t\"X-RapidAPI-Key\": \"96303ae426mshae3ba39b377e19ap123a6ejsn4e3dd9973b15\",\n",
    "\t\"X-RapidAPI-Host\": \"zillow-com1.p.rapidapi.com\"\n",
    "}\n",
    "\n",
    "response = requests.request(\"GET\", url, headers=headers, params=querystring).json()\n",
    "\n",
    "\n",
    "\n",
    "\n",
    "\n"
   ]
  },
  {
   "cell_type": "code",
   "execution_count": null,
   "id": "5bdfdf31",
   "metadata": {},
   "outputs": [],
   "source": [
    "##calling the api 4 seperate times and storing the results of each call into its respected list. \n",
    "##Was only allowed a max of 10 calls at a time. Had total of 40 pages to get\n",
    "\n",
    "homes=[]\n",
    "for page in range(1,response['totalPages']+1 ):\n",
    "    querystring = {\"location\":\"tucson,az\",\"status_type\":\"ForSale\",\"page\":str(page), \"home_type\":\"Houses\"}\n",
    "    response = requests.request(\"GET\", url, headers=headers, params=querystring).json()\n",
    "    if 'props' in response.keys():\n",
    "        for item in response['props']:\n",
    "            homes.append(item)"
   ]
  },
  {
   "cell_type": "code",
   "execution_count": null,
   "id": "10b5455c",
   "metadata": {},
   "outputs": [],
   "source": [
    "homes2 = []\n",
    "\n",
    "for page in range(10,response['totalPages']+1 ):\n",
    "    querystring = {\"location\":\"tucson,az\",\"status_type\":\"ForSale\",\"page\":str(page), \"home_type\":\"Houses\"}\n",
    "    response = requests.request(\"GET\", url, headers=headers, params=querystring).json()\n",
    "    if 'props' in response.keys():      \n",
    "        for item in response['props']:\n",
    "            homes2.append(item)"
   ]
  },
  {
   "cell_type": "code",
   "execution_count": null,
   "id": "55d8cf44",
   "metadata": {},
   "outputs": [],
   "source": [
    "homes3 = []\n",
    "\n",
    "for page in range(19,response['totalPages']+1 ):\n",
    "    querystring = {\"location\":\"tucson,az\",\"status_type\":\"ForSale\",\"page\":str(page), \"home_type\":\"Houses\"}\n",
    "    response = requests.request(\"GET\", url, headers=headers, params=querystring).json()    \n",
    "    if 'props' in response.keys():\n",
    "        for item in response['props']:\n",
    "            homes3.append(item)"
   ]
  },
  {
   "cell_type": "code",
   "execution_count": null,
   "id": "d63dc763",
   "metadata": {},
   "outputs": [],
   "source": [
    "homes4 = [] \n",
    "for page in range(21,30):\n",
    "    querystring = {\"location\":\"marana,az\",\"status_type\":\"ForSale\",\"page\":str(page), \"home_type\":\"Houses\"}\n",
    "    response = requests.request(\"GET\", url, headers=headers, params=querystring).json()\n",
    "    if 'props' in response.keys():\n",
    "        for item in response['props']:\n",
    "            homes4.append(item)"
   ]
  },
  {
   "cell_type": "code",
   "execution_count": 260,
   "id": "72315ea7",
   "metadata": {},
   "outputs": [],
   "source": [
    "#storing each call (list) in its own DF and converting each one to a csv file\n",
    "\n",
    "df1 = pd.DataFrame(homes)\n",
    "df2 = pd.DataFrame(homes2)\n",
    "df3 = pd.DataFrame(homes3)\n",
    "df1.to_csv(\"zillowHomes1.csv\")\n",
    "df2.to_csv(\"zillowHomes2.csv\")\n",
    "df3.to_csv(\"zillowHomes3.csv\")"
   ]
  },
  {
   "cell_type": "code",
   "execution_count": 272,
   "id": "65696707",
   "metadata": {},
   "outputs": [],
   "source": [
    "##Concat all DF into one\n",
    "\n",
    "df5 = pd.concat([df1, df2, df3], ignore_index = True)"
   ]
  },
  {
   "cell_type": "code",
   "execution_count": 275,
   "id": "ae8492e4",
   "metadata": {},
   "outputs": [],
   "source": [
    "##convert final DF to a csv file for analysis\n",
    "\n",
    "df5.to_csv(\"zillowHomesFull.csv\")"
   ]
  },
  {
   "cell_type": "code",
   "execution_count": null,
   "id": "ab802b8b",
   "metadata": {},
   "outputs": [],
   "source": []
  }
 ],
 "metadata": {
  "kernelspec": {
   "display_name": "Python 3 (ipykernel)",
   "language": "python",
   "name": "python3"
  },
  "language_info": {
   "codemirror_mode": {
    "name": "ipython",
    "version": 3
   },
   "file_extension": ".py",
   "mimetype": "text/x-python",
   "name": "python",
   "nbconvert_exporter": "python",
   "pygments_lexer": "ipython3",
   "version": "3.9.12"
  }
 },
 "nbformat": 4,
 "nbformat_minor": 5
}
